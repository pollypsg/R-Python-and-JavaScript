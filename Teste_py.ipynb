{
  "nbformat": 4,
  "nbformat_minor": 0,
  "metadata": {
    "colab": {
      "name": "Teste.py",
      "provenance": [],
      "authorship_tag": "ABX9TyNs2IzSPgRD2Fus2OR4QeyC",
      "include_colab_link": true
    },
    "kernelspec": {
      "name": "python3",
      "display_name": "Python 3"
    }
  },
  "cells": [
    {
      "cell_type": "markdown",
      "metadata": {
        "id": "view-in-github",
        "colab_type": "text"
      },
      "source": [
        "<a href=\"https://colab.research.google.com/github/pollypsg/RStudio_Basics/blob/master/Teste_py.ipynb\" target=\"_parent\"><img src=\"https://colab.research.google.com/assets/colab-badge.svg\" alt=\"Open In Colab\"/></a>"
      ]
    },
    {
      "cell_type": "code",
      "metadata": {
        "colab": {
          "base_uri": "https://localhost:8080/"
        },
        "id": "9lm0g5-UGtHs",
        "outputId": "63cba409-ea0d-44bb-a5ee-91f73c47f18a"
      },
      "source": [
        "print(\"Seja bem vindo a este teste.\")"
      ],
      "execution_count": 1,
      "outputs": [
        {
          "output_type": "stream",
          "text": [
            "Seja bem vindo a este teste.\n"
          ],
          "name": "stdout"
        }
      ]
    },
    {
      "cell_type": "code",
      "metadata": {
        "colab": {
          "base_uri": "https://localhost:8080/"
        },
        "id": "Krva5nmaHN9f",
        "outputId": "9ae940b0-5614-4f98-99e5-ac5ca142de74"
      },
      "source": [
        "print(\"Vamos inserir algumas variáveis de ambiente...\")"
      ],
      "execution_count": 3,
      "outputs": [
        {
          "output_type": "stream",
          "text": [
            "Vamos inserir algumas variáveis de ambiente...\n"
          ],
          "name": "stdout"
        }
      ]
    },
    {
      "cell_type": "code",
      "metadata": {
        "id": "JQ-lnlNkHOWF"
      },
      "source": [
        "a = 12"
      ],
      "execution_count": 5,
      "outputs": []
    },
    {
      "cell_type": "code",
      "metadata": {
        "id": "j7dUMs72HOr8"
      },
      "source": [
        "b = 23"
      ],
      "execution_count": 6,
      "outputs": []
    },
    {
      "cell_type": "code",
      "metadata": {
        "id": "tdxCCwANHPAk"
      },
      "source": [
        "c = 54"
      ],
      "execution_count": 8,
      "outputs": []
    },
    {
      "cell_type": "code",
      "metadata": {
        "colab": {
          "base_uri": "https://localhost:8080/"
        },
        "id": "JrsDw7MuHPRU",
        "outputId": "8684a91e-e961-4842-ea0e-76a1d5937ad0"
      },
      "source": [
        "print(a + b + c)"
      ],
      "execution_count": 9,
      "outputs": [
        {
          "output_type": "stream",
          "text": [
            "89\n"
          ],
          "name": "stdout"
        }
      ]
    },
    {
      "cell_type": "code",
      "metadata": {
        "colab": {
          "base_uri": "https://localhost:8080/"
        },
        "id": "tEw-ri2xIIOv",
        "outputId": "59966be7-3750-4944-a6a6-acbf061e8fa0"
      },
      "source": [
        "print(a*b)"
      ],
      "execution_count": 10,
      "outputs": [
        {
          "output_type": "stream",
          "text": [
            "276\n"
          ],
          "name": "stdout"
        }
      ]
    },
    {
      "cell_type": "code",
      "metadata": {
        "colab": {
          "base_uri": "https://localhost:8080/"
        },
        "id": "j_Vu1v-mITQP",
        "outputId": "bc22f395-6299-45a1-ccef-71359b34b843"
      },
      "source": [
        "print(a - b)"
      ],
      "execution_count": 11,
      "outputs": [
        {
          "output_type": "stream",
          "text": [
            "-11\n"
          ],
          "name": "stdout"
        }
      ]
    },
    {
      "cell_type": "code",
      "metadata": {
        "colab": {
          "base_uri": "https://localhost:8080/"
        },
        "id": "ewGxxd5RITI3",
        "outputId": "54c4d345-c6c1-4d3b-ec8f-5bbaf9bab76d"
      },
      "source": [
        "print(a / b)"
      ],
      "execution_count": 12,
      "outputs": [
        {
          "output_type": "stream",
          "text": [
            "0.5217391304347826\n"
          ],
          "name": "stdout"
        }
      ]
    },
    {
      "cell_type": "code",
      "metadata": {
        "colab": {
          "base_uri": "https://localhost:8080/"
        },
        "id": "pFEBTDFOITBp",
        "outputId": "5078041a-bc9b-48f6-db8f-d45cdd3aa7eb"
      },
      "source": [
        "print( a ** b)"
      ],
      "execution_count": 13,
      "outputs": [
        {
          "output_type": "stream",
          "text": [
            "6624737266949237011120128\n"
          ],
          "name": "stdout"
        }
      ]
    },
    {
      "cell_type": "code",
      "metadata": {
        "colab": {
          "base_uri": "https://localhost:8080/"
        },
        "id": "JmT4eQ5pIS5x",
        "outputId": "2978f097-87ba-436f-fc0c-4f4608254ea8"
      },
      "source": [
        "print(b * c)"
      ],
      "execution_count": 14,
      "outputs": [
        {
          "output_type": "stream",
          "text": [
            "1242\n"
          ],
          "name": "stdout"
        }
      ]
    },
    {
      "cell_type": "code",
      "metadata": {
        "colab": {
          "base_uri": "https://localhost:8080/"
        },
        "id": "Dl_0hQVtISxZ",
        "outputId": "6e536f51-6530-4d2e-a86e-668cafa1b1fc"
      },
      "source": [
        "print(\"O valor de a é: \" , a)"
      ],
      "execution_count": 17,
      "outputs": [
        {
          "output_type": "stream",
          "text": [
            "O valor de a é:  12\n"
          ],
          "name": "stdout"
        }
      ]
    },
    {
      "cell_type": "code",
      "metadata": {
        "id": "R5AbjgfjIShb"
      },
      "source": [
        ""
      ],
      "execution_count": null,
      "outputs": []
    },
    {
      "cell_type": "markdown",
      "metadata": {
        "id": "Y5sWGaSBJTv_"
      },
      "source": [
        "**Este é apenas um teste, aqqui faremos nosso curso de lógica de programação em Python e JavaScript(NodeJS). Após este início, estaremos prontos para nos aprofundar em conhecimentos mais específicos.**"
      ]
    },
    {
      "cell_type": "code",
      "metadata": {
        "id": "Ghh_GWmmISTJ"
      },
      "source": [
        ""
      ],
      "execution_count": null,
      "outputs": []
    },
    {
      "cell_type": "code",
      "metadata": {
        "id": "PIpaIX3SISEd"
      },
      "source": [
        ""
      ],
      "execution_count": null,
      "outputs": []
    },
    {
      "cell_type": "code",
      "metadata": {
        "id": "Ns_QIN5LIR1v"
      },
      "source": [
        ""
      ],
      "execution_count": null,
      "outputs": []
    },
    {
      "cell_type": "code",
      "metadata": {
        "id": "Z0ObytsbIRkd"
      },
      "source": [
        ""
      ],
      "execution_count": null,
      "outputs": []
    }
  ]
}